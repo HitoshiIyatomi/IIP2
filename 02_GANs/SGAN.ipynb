{
  "nbformat": 4,
  "nbformat_minor": 0,
  "metadata": {
    "colab": {
      "name": "SGAN.ipynb",
      "provenance": [],
      "collapsed_sections": [],
      "toc_visible": true
    },
    "kernelspec": {
      "name": "python3",
      "display_name": "Python 3"
    },
    "accelerator": "GPU"
  },
  "cells": [
    {
      "cell_type": "markdown",
      "metadata": {
        "id": "wys_9VeyrPQJ"
      },
      "source": [
        "# Semi-superviesd GAN (SGAN)\n",
        "\n",
        "We can compare the effectivess of unlabeled data. <br>\n",
        "\n",
        "First, we train the MNIST dataset with only 100 (=num_labeled) data as the labeled dataset and the other data as the unlabeled dataset. <br>\n",
        "\n",
        "Then, we train only supervised data and compare the performance.\n"
      ]
    },
    {
      "cell_type": "code",
      "metadata": {
        "colab": {
          "base_uri": "https://localhost:8080/"
        },
        "id": "RRNF0a0UubTZ",
        "outputId": "6c378211-1da7-4467-f8d0-84da1ef2c37e"
      },
      "source": [
        "# check the GPU usage\n",
        "!nvidia-smi"
      ],
      "execution_count": 1,
      "outputs": [
        {
          "output_type": "stream",
          "text": [
            "Sat Dec 19 11:36:59 2020       \n",
            "+-----------------------------------------------------------------------------+\n",
            "| NVIDIA-SMI 455.45.01    Driver Version: 418.67       CUDA Version: 10.1     |\n",
            "|-------------------------------+----------------------+----------------------+\n",
            "| GPU  Name        Persistence-M| Bus-Id        Disp.A | Volatile Uncorr. ECC |\n",
            "| Fan  Temp  Perf  Pwr:Usage/Cap|         Memory-Usage | GPU-Util  Compute M. |\n",
            "|                               |                      |               MIG M. |\n",
            "|===============================+======================+======================|\n",
            "|   0  Tesla T4            Off  | 00000000:00:04.0 Off |                    0 |\n",
            "| N/A   29C    P8     8W /  70W |      0MiB / 15079MiB |      0%      Default |\n",
            "|                               |                      |                 ERR! |\n",
            "+-------------------------------+----------------------+----------------------+\n",
            "                                                                               \n",
            "+-----------------------------------------------------------------------------+\n",
            "| Processes:                                                                  |\n",
            "|  GPU   GI   CI        PID   Type   Process name                  GPU Memory |\n",
            "|        ID   ID                                                   Usage      |\n",
            "|=============================================================================|\n",
            "|  No running processes found                                                 |\n",
            "+-----------------------------------------------------------------------------+\n"
          ],
          "name": "stdout"
        }
      ]
    },
    {
      "cell_type": "code",
      "metadata": {
        "id": "I7na4ZbgrOll"
      },
      "source": [
        "%matplotlib inline\n",
        "\n",
        "import matplotlib.pyplot as plt\n",
        "import numpy as np\n",
        "\n",
        "from keras import backend as K\n",
        "\n",
        "from keras.datasets import mnist\n",
        "from keras.layers import (Activation, BatchNormalization, Concatenate, Dense,\n",
        "                          Dropout, Flatten, Input, Lambda, Reshape)\n",
        "from keras.layers.advanced_activations import LeakyReLU\n",
        "from keras.layers.convolutional import Conv2D, Conv2DTranspose\n",
        "from keras.models import Model, Sequential\n",
        "from keras.optimizers import Adam\n",
        "from keras.utils import to_categorical"
      ],
      "execution_count": 2,
      "outputs": []
    },
    {
      "cell_type": "markdown",
      "metadata": {
        "id": "2hbG1sylXGl9"
      },
      "source": [
        "## Setup Dataset\r\n",
        "\r\n",
        "We used MNIST dataset again.\r\n",
        "This time, we use limited number of labeled data for supervised training and the remainders for unsupervised training.\r\n"
      ]
    },
    {
      "cell_type": "code",
      "metadata": {
        "id": "a-ljBnE7XfPW"
      },
      "source": [
        "# Number of labeled examples to use (rest will be used as unlabeled)\r\n",
        "num_labeled = 100"
      ],
      "execution_count": 3,
      "outputs": []
    },
    {
      "cell_type": "code",
      "metadata": {
        "id": "DA5_SZI0rQmZ",
        "colab": {
          "base_uri": "https://localhost:8080/"
        },
        "outputId": "cabe35b1-04e5-4053-be29-1f790ada7871"
      },
      "source": [
        "class Dataset:\n",
        "    def __init__(self, num_labeled):\n",
        "\n",
        "        # Number labeled examples to use for training\n",
        "        self.num_labeled = num_labeled\n",
        "\n",
        "        # Load the MNIST dataset\n",
        "        (self.x_train, self.y_train), (self.x_test,\n",
        "                                       self.y_test) = mnist.load_data()\n",
        "\n",
        "        def preprocess_imgs(x):\n",
        "            # Rescale [0, 255] grayscale pixel values to [-1, 1]\n",
        "            x = (x.astype(np.float32) - 127.5) / 127.5\n",
        "            # Expand image dimensions to width x height x channels\n",
        "            x = np.expand_dims(x, axis=3)\n",
        "            return x\n",
        "\n",
        "        def preprocess_labels(y):\n",
        "            return y.reshape(-1, 1)\n",
        "\n",
        "        # Training data\n",
        "        self.x_train = preprocess_imgs(self.x_train)\n",
        "        self.y_train = preprocess_labels(self.y_train)\n",
        "\n",
        "        # Testing data\n",
        "        self.x_test = preprocess_imgs(self.x_test)\n",
        "        self.y_test = preprocess_labels(self.y_test)\n",
        "\n",
        "    def batch_labeled(self, batch_size):\n",
        "        # Get a random batch of labeled images and their labels\n",
        "        idx = np.random.randint(0, self.num_labeled, batch_size)\n",
        "        imgs = self.x_train[idx]\n",
        "        labels = self.y_train[idx]\n",
        "        return imgs, labels\n",
        "\n",
        "    def batch_unlabeled(self, batch_size):\n",
        "        # Get a random batch of unlabeled images\n",
        "        idx = np.random.randint(self.num_labeled, self.x_train.shape[0],\n",
        "                                batch_size)\n",
        "        imgs = self.x_train[idx]\n",
        "        return imgs\n",
        "\n",
        "    def training_set(self):\n",
        "        x_train = self.x_train[range(self.num_labeled)]\n",
        "        y_train = self.y_train[range(self.num_labeled)]\n",
        "        return x_train, y_train\n",
        "\n",
        "    def test_set(self):\n",
        "        return self.x_test, self.y_test\n",
        "\n",
        "# form dataset\n",
        "dataset = Dataset(num_labeled)"
      ],
      "execution_count": 4,
      "outputs": [
        {
          "output_type": "stream",
          "text": [
            "Downloading data from https://storage.googleapis.com/tensorflow/tf-keras-datasets/mnist.npz\n",
            "11493376/11490434 [==============================] - 0s 0us/step\n"
          ],
          "name": "stdout"
        }
      ]
    },
    {
      "cell_type": "markdown",
      "metadata": {
        "id": "XkLkNWe4X72G"
      },
      "source": [
        "## Set overall settings"
      ]
    },
    {
      "cell_type": "code",
      "metadata": {
        "id": "vhIIzz-xYFgx"
      },
      "source": [
        "img_rows = 28\r\n",
        "img_cols = 28\r\n",
        "channels = 1\r\n",
        "\r\n",
        "# Input image dimensions\r\n",
        "img_shape = (img_rows, img_cols, channels)\r\n",
        "\r\n",
        "# Size of the noise vector, used as input to the Generator\r\n",
        "z_dim = 100\r\n",
        "\r\n",
        "# Number of classes in the dataset\r\n",
        "num_classes = 10"
      ],
      "execution_count": 5,
      "outputs": []
    },
    {
      "cell_type": "markdown",
      "metadata": {
        "id": "scvIIWe3rh6R"
      },
      "source": [
        "## Set up a Generator\n",
        "\n",
        "Same with our DCGAN built before! <br>\n",
        "\n",
        " input(100)-FC(7x7x256)-BN-LReLU-FC(7x7x128)-BN-LReLU-Tconv(14x14x64)-BN-LReLU-Tconv(28x28x1)-tanh-output(28x28)."
      ]
    },
    {
      "cell_type": "code",
      "metadata": {
        "id": "risNM6hTrdUJ"
      },
      "source": [
        "def build_generator(z_dim):\n",
        "\n",
        "    model = Sequential()\n",
        "\n",
        "    # Reshape input into 7x7x256 tensor via a fully connected layer\n",
        "    model.add(Dense(256 * 7 * 7, input_dim=z_dim))\n",
        "    model.add(Reshape((7, 7, 256)))\n",
        "\n",
        "    # Transposed convolution layer, from 7x7x256 into 7x7x128 tensor\n",
        "    model.add(Conv2DTranspose(128, kernel_size=5, strides=1, padding='same'))\n",
        "    model.add(BatchNormalization())\n",
        "    model.add(LeakyReLU(alpha=0.1))\n",
        "\n",
        "    # Transposed convolution layer, from 7x7x128 into 14x14x64 tensor\n",
        "    model.add(Conv2DTranspose(64, kernel_size=5, strides=2, padding='same'))\n",
        "    model.add(BatchNormalization())\n",
        "    model.add(LeakyReLU(alpha=0.1))\n",
        "\n",
        "    # Transposed convolution layer, from 14x14x64 into 28x28x1 tensor\n",
        "    model.add(Conv2DTranspose(1, kernel_size=5, strides=2, padding='same'))\n",
        "\n",
        "    # Output layer with tanh activation\n",
        "    model.add(Activation('tanh'))\n",
        "\n",
        "    return model"
      ],
      "execution_count": 6,
      "outputs": []
    },
    {
      "cell_type": "markdown",
      "metadata": {
        "id": "Z67mv0pxuBDA"
      },
      "source": [
        "## Discriminator\n",
        "The basic architcture of the discriminator is same with our pervious DCGAN. <br>\n",
        "\n",
        "But this time, the number of the output is changed to that of classes.\n",
        "\n",
        "input(28x28x1)-conv(14x14x64)-LReLU-Drop-conv(7x7x128)-LReLU-Drop-output(10)"
      ]
    },
    {
      "cell_type": "code",
      "metadata": {
        "id": "KjVNWwY2trjn"
      },
      "source": [
        "def build_discriminator_net(img_shape):\n",
        "\n",
        "    model = Sequential()\n",
        "\n",
        "    # Convolutional layer, from 28x28x1 into 14x14x64 tensor\n",
        "    model.add(\n",
        "        Conv2D(64, kernel_size=5, strides=2, input_shape=img_shape, padding='same'))\n",
        "    model.add(LeakyReLU(alpha=0.1))\n",
        "    model.add(Dropout(0.3))\n",
        "\n",
        "    # Convolutional layer, from 14x14x64 into 7x7x128 tensor\n",
        "    model.add(\n",
        "        Conv2D(128, kernel_size=5, strides=2, input_shape=img_shape, padding='same'))\n",
        "    model.add(LeakyReLU(alpha=0.1))\n",
        "    model.add(Dropout(0.3))\n",
        "\n",
        "    # Output layer with sigmoid activation\n",
        "    model.add(Flatten())\n",
        "\n",
        "    # Fully connected layer with num_classes neurons\n",
        "    model.add(Dense(num_classes))\n",
        "\n",
        "   # in former DCGAN model \n",
        "   #model.add(Dense(1, activation='sigmoid')) \n",
        "\n",
        "    return model"
      ],
      "execution_count": 7,
      "outputs": []
    },
    {
      "cell_type": "markdown",
      "metadata": {
        "id": "g79ynoH-YsAe"
      },
      "source": [
        "### Additional setting for discriminator (for supervised input)\r\n",
        "For supervised data, softmax activation is used. "
      ]
    },
    {
      "cell_type": "code",
      "metadata": {
        "id": "zajpeYOjY488"
      },
      "source": [
        "def build_discriminator_supervised(discriminator_net):\r\n",
        "\r\n",
        "    model = Sequential()\r\n",
        "\r\n",
        "    model.add(discriminator_net)\r\n",
        "\r\n",
        "    # Softmax activation, giving predicted probability distribution over the real classes\r\n",
        "    model.add(Activation('softmax'))\r\n",
        "\r\n",
        "    return model"
      ],
      "execution_count": 8,
      "outputs": []
    },
    {
      "cell_type": "markdown",
      "metadata": {
        "id": "HArtTlJbZIr8"
      },
      "source": [
        "### Additional setting for discriminator (for unsupervised input)\r\n",
        "For supervised data, softmax activation is used. \r\n",
        "\r\n",
        "Convert raw $N$ outputs (x) to the probability for \"real\" data.<br>\r\n",
        "If the sum of the outputs is large, it is considered to be real  (prediction -> 1)."
      ]
    },
    {
      "cell_type": "code",
      "metadata": {
        "id": "ycJ50G4nZGfE"
      },
      "source": [
        "def build_discriminator_unsupervised(discriminator_net):\r\n",
        "\r\n",
        "    model = Sequential()\r\n",
        "\r\n",
        "    model.add(discriminator_net)\r\n",
        "\r\n",
        "    def predict(x):\r\n",
        "        # Transform distribution over real N (10) classes into a binary real-vs-fake probability\r\n",
        "        prediction = 1.0 - (1.0 /\r\n",
        "                            (K.sum(K.exp(x), axis=-1, keepdims=True) + 1.0))\r\n",
        "        return prediction\r\n",
        "\r\n",
        "    # 'Real-vs-fake' output neuron defined above\r\n",
        "    model.add(Lambda(predict))\r\n",
        "\r\n",
        "    return model"
      ],
      "execution_count": 9,
      "outputs": []
    },
    {
      "cell_type": "markdown",
      "metadata": {
        "id": "1HY9wdmTt-WB"
      },
      "source": [
        "## Build the GAN model\r\n",
        "\r\n",
        "same as before."
      ]
    },
    {
      "cell_type": "code",
      "metadata": {
        "id": "Ke0SXJwZt5wv"
      },
      "source": [
        "def build_gan(generator, discriminator):\n",
        "\n",
        "    model = Sequential()\n",
        "\n",
        "    # Combined Generator -> Discriminator model\n",
        "    model.add(generator)\n",
        "    model.add(discriminator)\n",
        "\n",
        "    return model"
      ],
      "execution_count": 10,
      "outputs": []
    },
    {
      "cell_type": "markdown",
      "metadata": {
        "id": "eN2UnOWHfVP2"
      },
      "source": [
        "### Discriminator\r\n",
        "\r\n",
        "We used different loss function for each supervised and unsupervised data."
      ]
    },
    {
      "cell_type": "code",
      "metadata": {
        "id": "nKW5jnARfhMs"
      },
      "source": [
        "# Core Discriminator network:\r\n",
        "# These layers are shared during supervised and unsupervised training\r\n",
        "discriminator_net = build_discriminator_net(img_shape)\r\n",
        "\r\n",
        "# Build & compile the Discriminator for supervised training\r\n",
        "discriminator_supervised = build_discriminator_supervised(discriminator_net)\r\n",
        "discriminator_supervised.compile(loss='categorical_crossentropy',\r\n",
        "                                 metrics=['accuracy'],\r\n",
        "                                 optimizer=Adam())\r\n",
        "\r\n",
        "# Build & compile the Discriminator for unsupervised training\r\n",
        "discriminator_unsupervised = build_discriminator_unsupervised(discriminator_net)\r\n",
        "discriminator_unsupervised.compile(loss='binary_crossentropy',\r\n",
        "                                   optimizer=Adam())\r\n",
        "\r\n",
        "##### Just for reference  (DCGAN for comparison) #####\r\n",
        "#discriminator = build_discriminator(img_shape)\r\n",
        "#discriminator.compile(loss='binary_crossentropy',\r\n",
        "#                      optimizer=Adam(),\r\n",
        "#                      metrics=['accuracy'])"
      ],
      "execution_count": 11,
      "outputs": []
    },
    {
      "cell_type": "markdown",
      "metadata": {
        "id": "MFV2VJPBf-8d"
      },
      "source": [
        "## Generator\r\n"
      ]
    },
    {
      "cell_type": "code",
      "metadata": {
        "id": "aGrTupVTt9k-"
      },
      "source": [
        "# Build the Generator\n",
        "generator = build_generator(z_dim)\n",
        "\n",
        "# Keep Discriminator’s parameters constant for Generator training\n",
        "discriminator_unsupervised.trainable = False\n",
        "\n",
        "# Build and compile GAN model with fixed Discriminator to train the Generator\n",
        "# Note that we are using the Discriminator version with unsupervised output\n",
        "gan = build_gan(generator, discriminator_unsupervised)\n",
        "gan.compile(loss='binary_crossentropy', optimizer=Adam())\n",
        "\n",
        "####### Just for reference  (DCGAN for comparison) #####\n",
        "## Build the Generator\n",
        "#generator = build_generator(z_dim)\n",
        "\n",
        "# Keep Discriminator’s parameters constant for Generator training\n",
        "#discriminator.trainable = False\n",
        "\n",
        "# Build and compile GAN model with fixed Discriminator to train the Generator\n",
        "#gan = build_gan(generator, discriminator)\n",
        "#gan.compile(loss='binary_crossentropy', optimizer=Adam())"
      ],
      "execution_count": 12,
      "outputs": []
    },
    {
      "cell_type": "markdown",
      "metadata": {
        "id": "4Oc0WMZrg_Mu"
      },
      "source": [
        "### Overview of the model"
      ]
    },
    {
      "cell_type": "code",
      "metadata": {
        "colab": {
          "base_uri": "https://localhost:8080/"
        },
        "id": "bdoWfD7F0zAa",
        "outputId": "8135217c-31d4-4fe5-99e2-7507295d7345"
      },
      "source": [
        "discriminator_supervised.summary()\n",
        "discriminator_unsupervised.summary()\n",
        "generator.summary()\n",
        "gan.summary()"
      ],
      "execution_count": 13,
      "outputs": [
        {
          "output_type": "stream",
          "text": [
            "Model: \"sequential_1\"\n",
            "_________________________________________________________________\n",
            "Layer (type)                 Output Shape              Param #   \n",
            "=================================================================\n",
            "sequential (Sequential)      (None, 10)                269322    \n",
            "_________________________________________________________________\n",
            "activation (Activation)      (None, 10)                0         \n",
            "=================================================================\n",
            "Total params: 269,322\n",
            "Trainable params: 0\n",
            "Non-trainable params: 269,322\n",
            "_________________________________________________________________\n",
            "Model: \"sequential_2\"\n",
            "_________________________________________________________________\n",
            "Layer (type)                 Output Shape              Param #   \n",
            "=================================================================\n",
            "sequential (Sequential)      (None, 10)                269322    \n",
            "_________________________________________________________________\n",
            "lambda (Lambda)              (None, 1)                 0         \n",
            "=================================================================\n",
            "Total params: 269,322\n",
            "Trainable params: 0\n",
            "Non-trainable params: 269,322\n",
            "_________________________________________________________________\n",
            "Model: \"sequential_3\"\n",
            "_________________________________________________________________\n",
            "Layer (type)                 Output Shape              Param #   \n",
            "=================================================================\n",
            "dense_1 (Dense)              (None, 12544)             1266944   \n",
            "_________________________________________________________________\n",
            "reshape (Reshape)            (None, 7, 7, 256)         0         \n",
            "_________________________________________________________________\n",
            "conv2d_transpose (Conv2DTran (None, 7, 7, 128)         819328    \n",
            "_________________________________________________________________\n",
            "batch_normalization (BatchNo (None, 7, 7, 128)         512       \n",
            "_________________________________________________________________\n",
            "leaky_re_lu_2 (LeakyReLU)    (None, 7, 7, 128)         0         \n",
            "_________________________________________________________________\n",
            "conv2d_transpose_1 (Conv2DTr (None, 14, 14, 64)        204864    \n",
            "_________________________________________________________________\n",
            "batch_normalization_1 (Batch (None, 14, 14, 64)        256       \n",
            "_________________________________________________________________\n",
            "leaky_re_lu_3 (LeakyReLU)    (None, 14, 14, 64)        0         \n",
            "_________________________________________________________________\n",
            "conv2d_transpose_2 (Conv2DTr (None, 28, 28, 1)         1601      \n",
            "_________________________________________________________________\n",
            "activation_1 (Activation)    (None, 28, 28, 1)         0         \n",
            "=================================================================\n",
            "Total params: 2,293,505\n",
            "Trainable params: 2,293,121\n",
            "Non-trainable params: 384\n",
            "_________________________________________________________________\n",
            "Model: \"sequential_4\"\n",
            "_________________________________________________________________\n",
            "Layer (type)                 Output Shape              Param #   \n",
            "=================================================================\n",
            "sequential_3 (Sequential)    (None, 28, 28, 1)         2293505   \n",
            "_________________________________________________________________\n",
            "sequential_2 (Sequential)    (None, 1)                 269322    \n",
            "=================================================================\n",
            "Total params: 2,562,827\n",
            "Trainable params: 2,293,121\n",
            "Non-trainable params: 269,706\n",
            "_________________________________________________________________\n"
          ],
          "name": "stdout"
        }
      ]
    },
    {
      "cell_type": "markdown",
      "metadata": {
        "id": "N3NW_hR-uGrB"
      },
      "source": [
        "## Preparation for the training"
      ]
    },
    {
      "cell_type": "code",
      "metadata": {
        "id": "4Ts5NTbNuGHg"
      },
      "source": [
        "supervised_losses = []\n",
        "iteration_checkpoints = []\n",
        "\n",
        "\n",
        "def train(iterations, batch_size, sample_interval):\n",
        "\n",
        "    # Labels for real images: all ones\n",
        "    real = np.ones((batch_size, 1))\n",
        "\n",
        "    # Labels for fake images: all zeros\n",
        "    fake = np.zeros((batch_size, 1))\n",
        "\n",
        "    for iteration in range(iterations):\n",
        "\n",
        "        # -------------------------\n",
        "        #  Train the Discriminator\n",
        "        # -------------------------\n",
        "\n",
        "        # Get labeled examples\n",
        "        imgs, labels = dataset.batch_labeled(batch_size)\n",
        "\n",
        "        # One-hot encode labels\n",
        "        labels = to_categorical(labels, num_classes=num_classes)\n",
        "\n",
        "        # Get unlabeled examples\n",
        "        imgs_unlabeled = dataset.batch_unlabeled(batch_size)\n",
        "\n",
        "        # Generate a batch of fake images\n",
        "        z = np.random.normal(0, 1, (batch_size, z_dim))\n",
        "        gen_imgs = generator.predict(z)\n",
        "\n",
        "        # Train on real labeled examples\n",
        "        d_loss_supervised, accuracy = discriminator_supervised.train_on_batch(imgs, labels)\n",
        "\n",
        "        # Train on real unlabeled examples\n",
        "        d_loss_real = discriminator_unsupervised.train_on_batch(\n",
        "            imgs_unlabeled, real)\n",
        "\n",
        "        # Train on fake examples\n",
        "        d_loss_fake = discriminator_unsupervised.train_on_batch(gen_imgs, fake)\n",
        "\n",
        "        d_loss_unsupervised = 0.5 * np.add(d_loss_real, d_loss_fake)\n",
        "\n",
        "        # ---------------------\n",
        "        #  Train the Generator\n",
        "        # ---------------------\n",
        "\n",
        "        # Generate a batch of fake images\n",
        "        z = np.random.normal(0, 1, (batch_size, z_dim))\n",
        "        gen_imgs = generator.predict(z)\n",
        "\n",
        "        # Train Generator\n",
        "        g_loss = gan.train_on_batch(z, np.ones((batch_size, 1)))\n",
        "\n",
        "        if (iteration + 1) % sample_interval == 0:\n",
        "\n",
        "            # Save Discriminator supervised classification loss to be plotted after training\n",
        "            supervised_losses.append(d_loss_supervised)\n",
        "            iteration_checkpoints.append(iteration + 1)\n",
        "\n",
        "            # Output training progress\n",
        "            print(\n",
        "                \"%d [D loss supervised: %.4f, acc.: %.2f%%] [D loss unsupervised: %.4f] [G loss: %f]\"\n",
        "                % (iteration + 1, d_loss_supervised, 100 * accuracy,\n",
        "                   d_loss_unsupervised, g_loss))"
      ],
      "execution_count": 14,
      "outputs": []
    },
    {
      "cell_type": "markdown",
      "metadata": {
        "id": "W2FFtv-zhrfG"
      },
      "source": [
        "### Train the model and investigate output "
      ]
    },
    {
      "cell_type": "code",
      "metadata": {
        "id": "taD7mlFOuEdT",
        "colab": {
          "base_uri": "https://localhost:8080/"
        },
        "outputId": "53626cb8-c112-49b4-92cc-058f8fc2ee1d"
      },
      "source": [
        "# Set hyperparameters\n",
        "iterations = 8000\n",
        "batch_size = 32\n",
        "sample_interval = 800\n",
        "\n",
        "# Train the SGAN for the specified number of iterations\n",
        "train(iterations, batch_size, sample_interval)"
      ],
      "execution_count": 15,
      "outputs": [
        {
          "output_type": "stream",
          "text": [
            "800 [D loss supervised: 0.0041, acc.: 100.00%] [D loss unsupervised: 0.1538] [G loss: 4.014009]\n",
            "1600 [D loss supervised: 0.0027, acc.: 100.00%] [D loss unsupervised: 0.4086] [G loss: 2.185991]\n",
            "2400 [D loss supervised: 0.0045, acc.: 100.00%] [D loss unsupervised: 0.5251] [G loss: 2.155874]\n",
            "3200 [D loss supervised: 0.0002, acc.: 100.00%] [D loss unsupervised: 0.3513] [G loss: 2.784251]\n",
            "4000 [D loss supervised: 0.0008, acc.: 100.00%] [D loss unsupervised: 0.5527] [G loss: 2.661509]\n",
            "4800 [D loss supervised: 0.0007, acc.: 100.00%] [D loss unsupervised: 0.2540] [G loss: 2.263368]\n",
            "5600 [D loss supervised: 0.0003, acc.: 100.00%] [D loss unsupervised: 0.3453] [G loss: 3.005361]\n",
            "6400 [D loss supervised: 0.0002, acc.: 100.00%] [D loss unsupervised: 0.4946] [G loss: 2.153570]\n",
            "7200 [D loss supervised: 0.0001, acc.: 100.00%] [D loss unsupervised: 0.3667] [G loss: 1.879787]\n",
            "8000 [D loss supervised: 0.0001, acc.: 100.00%] [D loss unsupervised: 0.4413] [G loss: 2.099496]\n"
          ],
          "name": "stdout"
        }
      ]
    },
    {
      "cell_type": "code",
      "metadata": {
        "colab": {
          "base_uri": "https://localhost:8080/",
          "height": 382
        },
        "id": "mNJ3oLW_4s7D",
        "outputId": "c5877238-295d-4d05-a241-78269ed75179"
      },
      "source": [
        "losses = np.array(supervised_losses)\r\n",
        "\r\n",
        "# Plot Discriminator supervised loss\r\n",
        "plt.figure(figsize=(15, 5))\r\n",
        "plt.plot(iteration_checkpoints, losses, label=\"Discriminator loss\")\r\n",
        "\r\n",
        "plt.xticks(iteration_checkpoints, rotation=90)\r\n",
        "\r\n",
        "plt.title(\"Discriminator – Supervised Loss\")\r\n",
        "plt.xlabel(\"Iteration\")\r\n",
        "plt.ylabel(\"Loss\")\r\n",
        "plt.legend()"
      ],
      "execution_count": 16,
      "outputs": [
        {
          "output_type": "execute_result",
          "data": {
            "text/plain": [
              "<matplotlib.legend.Legend at 0x7fa29045a438>"
            ]
          },
          "metadata": {
            "tags": []
          },
          "execution_count": 16
        },
        {
          "output_type": "display_data",
          "data": {
            "image/png": "[encoded data removed]",
            "text/plain": [
              "<Figure size 1080x360 with 1 Axes>"
            ]
          },
          "metadata": {
            "tags": [],
            "needs_background": "light"
          }
        }
      ]
    },
    {
      "cell_type": "markdown",
      "metadata": {
        "id": "lUuC1ihC51Vp"
      },
      "source": [
        "## Evaluation of SGAN  - Training and Test Accuracy"
      ]
    },
    {
      "cell_type": "code",
      "metadata": {
        "colab": {
          "base_uri": "https://localhost:8080/"
        },
        "id": "dJiz8XA04yoT",
        "outputId": "9c998ca4-6ad7-401d-f369-51e18f38c605"
      },
      "source": [
        "## Training Accuracy\r\n",
        "x, y = dataset.training_set()\r\n",
        "y = to_categorical(y, num_classes=num_classes)\r\n",
        "\r\n",
        "# Compute classification accuracy on the training set\r\n",
        "_, accuracy = discriminator_supervised.evaluate(x, y)\r\n",
        "print(\"Training Accuracy: %.2f%%\" % (100 * accuracy))"
      ],
      "execution_count": 17,
      "outputs": [
        {
          "output_type": "stream",
          "text": [
            "4/4 [==============================] - 0s 7ms/step - loss: 2.3363e-05 - accuracy: 1.0000\n",
            "Training Accuracy: 100.00%\n"
          ],
          "name": "stdout"
        }
      ]
    },
    {
      "cell_type": "code",
      "metadata": {
        "colab": {
          "base_uri": "https://localhost:8080/"
        },
        "id": "TJ-kjY2m422l",
        "outputId": "08f949eb-8ff2-42c8-fe50-3febcb0cc739"
      },
      "source": [
        "## Test Accuracy\r\n",
        "x, y = dataset.test_set()\r\n",
        "y = to_categorical(y, num_classes=num_classes)\r\n",
        "\r\n",
        "# Compute classification accuracy on the test set\r\n",
        "_, accuracy = discriminator_supervised.evaluate(x, y)\r\n",
        "print(\"Test Accuracy: %.2f%%\" % (100 * accuracy))"
      ],
      "execution_count": 18,
      "outputs": [
        {
          "output_type": "stream",
          "text": [
            "313/313 [==============================] - 1s 3ms/step - loss: 0.5550 - accuracy: 0.8752\n",
            "Test Accuracy: 87.52%\n"
          ],
          "name": "stdout"
        }
      ]
    },
    {
      "cell_type": "markdown",
      "metadata": {
        "id": "WFc3-5ln48xY"
      },
      "source": [
        "## Fully supervised classifier\r\n",
        "##  - Do not use unlabeled data -\r\n",
        "\r\n"
      ]
    },
    {
      "cell_type": "code",
      "metadata": {
        "id": "014QRZ5246LH"
      },
      "source": [
        "# Fully supervised classifier with the same network architecture as the SGAN Discriminator\r\n",
        "mnist_classifier = build_discriminator_supervised(build_discriminator_net(img_shape))\r\n",
        "mnist_classifier.compile(loss='categorical_crossentropy',\r\n",
        "                         metrics=['accuracy'],\r\n",
        "                         optimizer=Adam())"
      ],
      "execution_count": 24,
      "outputs": []
    },
    {
      "cell_type": "code",
      "metadata": {
        "colab": {
          "base_uri": "https://localhost:8080/"
        },
        "id": "tSut0Lza5BOg",
        "outputId": "387b0baa-4f65-4cc3-fa13-7e2fec2bfd93"
      },
      "source": [
        "imgs, labels = dataset.training_set()\r\n",
        "\r\n",
        "# One-hot encode labels\r\n",
        "labels = to_categorical(labels, num_classes=num_classes)\r\n",
        "\r\n",
        "# Train the classifier\r\n",
        "training = mnist_classifier.fit(x=imgs,\r\n",
        "                                y=labels,\r\n",
        "                                batch_size=32,\r\n",
        "                                epochs=30,\r\n",
        "                                verbose=1)\r\n",
        "losses = training.history['loss']\r\n",
        "accuracies = training.history['accuracy']"
      ],
      "execution_count": 25,
      "outputs": [
        {
          "output_type": "stream",
          "text": [
            "Epoch 1/30\n",
            "4/4 [==============================] - 1s 5ms/step - loss: 2.3171 - accuracy: 0.1108\n",
            "Epoch 2/30\n",
            "4/4 [==============================] - 0s 5ms/step - loss: 1.9651 - accuracy: 0.3579\n",
            "Epoch 3/30\n",
            "4/4 [==============================] - 0s 4ms/step - loss: 1.7385 - accuracy: 0.3462\n",
            "Epoch 4/30\n",
            "4/4 [==============================] - 0s 5ms/step - loss: 1.3163 - accuracy: 0.7333\n",
            "Epoch 5/30\n",
            "4/4 [==============================] - 0s 5ms/step - loss: 0.9057 - accuracy: 0.7877\n",
            "Epoch 6/30\n",
            "4/4 [==============================] - 0s 4ms/step - loss: 0.5368 - accuracy: 0.9039\n",
            "Epoch 7/30\n",
            "4/4 [==============================] - 0s 4ms/step - loss: 0.3914 - accuracy: 0.9015\n",
            "Epoch 8/30\n",
            "4/4 [==============================] - 0s 4ms/step - loss: 0.2498 - accuracy: 0.9418\n",
            "Epoch 9/30\n",
            "4/4 [==============================] - 0s 4ms/step - loss: 0.1612 - accuracy: 0.9654\n",
            "Epoch 10/30\n",
            "4/4 [==============================] - 0s 5ms/step - loss: 0.0984 - accuracy: 0.9847\n",
            "Epoch 11/30\n",
            "4/4 [==============================] - 0s 5ms/step - loss: 0.2292 - accuracy: 0.8985\n",
            "Epoch 12/30\n",
            "4/4 [==============================] - 0s 4ms/step - loss: 0.0650 - accuracy: 0.9845\n",
            "Epoch 13/30\n",
            "4/4 [==============================] - 0s 4ms/step - loss: 0.0669 - accuracy: 0.9847\n",
            "Epoch 14/30\n",
            "4/4 [==============================] - 0s 4ms/step - loss: 0.0358 - accuracy: 1.0000\n",
            "Epoch 15/30\n",
            "4/4 [==============================] - 0s 4ms/step - loss: 0.0274 - accuracy: 1.0000\n",
            "Epoch 16/30\n",
            "4/4 [==============================] - 0s 4ms/step - loss: 0.0223 - accuracy: 1.0000\n",
            "Epoch 17/30\n",
            "4/4 [==============================] - 0s 4ms/step - loss: 0.0139 - accuracy: 1.0000\n",
            "Epoch 18/30\n",
            "4/4 [==============================] - 0s 4ms/step - loss: 0.0101 - accuracy: 1.0000\n",
            "Epoch 19/30\n",
            "4/4 [==============================] - 0s 5ms/step - loss: 0.0070 - accuracy: 1.0000\n",
            "Epoch 20/30\n",
            "4/4 [==============================] - 0s 4ms/step - loss: 0.0064 - accuracy: 1.0000\n",
            "Epoch 21/30\n",
            "4/4 [==============================] - 0s 5ms/step - loss: 0.0086 - accuracy: 1.0000\n",
            "Epoch 22/30\n",
            "4/4 [==============================] - 0s 5ms/step - loss: 0.0040 - accuracy: 1.0000\n",
            "Epoch 23/30\n",
            "4/4 [==============================] - 0s 4ms/step - loss: 0.0040 - accuracy: 1.0000\n",
            "Epoch 24/30\n",
            "4/4 [==============================] - 0s 5ms/step - loss: 0.0050 - accuracy: 1.0000\n",
            "Epoch 25/30\n",
            "4/4 [==============================] - 0s 5ms/step - loss: 0.0034 - accuracy: 1.0000\n",
            "Epoch 26/30\n",
            "4/4 [==============================] - 0s 4ms/step - loss: 0.0027 - accuracy: 1.0000\n",
            "Epoch 27/30\n",
            "4/4 [==============================] - 0s 6ms/step - loss: 0.0036 - accuracy: 1.0000\n",
            "Epoch 28/30\n",
            "4/4 [==============================] - 0s 5ms/step - loss: 0.0029 - accuracy: 1.0000\n",
            "Epoch 29/30\n",
            "4/4 [==============================] - 0s 4ms/step - loss: 0.0029 - accuracy: 1.0000\n",
            "Epoch 30/30\n",
            "4/4 [==============================] - 0s 4ms/step - loss: 0.0017 - accuracy: 1.0000\n"
          ],
          "name": "stdout"
        }
      ]
    },
    {
      "cell_type": "code",
      "metadata": {
        "colab": {
          "base_uri": "https://localhost:8080/",
          "height": 353
        },
        "id": "-mCsbM1a5CzE",
        "outputId": "c8546aa9-70bc-4236-fce5-6691c1c24b78"
      },
      "source": [
        "# Plot classification loss\r\n",
        "plt.figure(figsize=(10, 5))\r\n",
        "plt.plot(np.array(losses), label=\"Loss\")\r\n",
        "plt.title(\"Classification Loss\")\r\n",
        "plt.legend()"
      ],
      "execution_count": 26,
      "outputs": [
        {
          "output_type": "execute_result",
          "data": {
            "text/plain": [
              "<matplotlib.legend.Legend at 0x7fa2861c6128>"
            ]
          },
          "metadata": {
            "tags": []
          },
          "execution_count": 26
        },
        {
          "output_type": "display_data",
          "data": {
            "image/png": "[encoded data removed]",
            "text/plain": [
              "<Figure size 720x360 with 1 Axes>"
            ]
          },
          "metadata": {
            "tags": [],
            "needs_background": "light"
          }
        }
      ]
    },
    {
      "cell_type": "code",
      "metadata": {
        "colab": {
          "base_uri": "https://localhost:8080/",
          "height": 353
        },
        "id": "9aHpgsfL5VP9",
        "outputId": "f373743b-6390-4ced-8874-d3d2fb639197"
      },
      "source": [
        "# Plot classification accuracy\r\n",
        "plt.figure(figsize=(10, 5))\r\n",
        "plt.plot(np.array(accuracies), label=\"Accuracy\")\r\n",
        "plt.title(\"Classification Accuracy on labeled dataset\")\r\n",
        "plt.legend()"
      ],
      "execution_count": 27,
      "outputs": [
        {
          "output_type": "execute_result",
          "data": {
            "text/plain": [
              "<matplotlib.legend.Legend at 0x7fa2f10f94e0>"
            ]
          },
          "metadata": {
            "tags": []
          },
          "execution_count": 27
        },
        {
          "output_type": "display_data",
          "data": {
            "image/png": "[encoded data removed]",
            "text/plain": [
              "<Figure size 720x360 with 1 Axes>"
            ]
          },
          "metadata": {
            "tags": [],
            "needs_background": "light"
          }
        }
      ]
    },
    {
      "cell_type": "code",
      "metadata": {
        "colab": {
          "base_uri": "https://localhost:8080/"
        },
        "id": "YsrVB3v35YjC",
        "outputId": "6ebd125a-b699-4621-bd2b-632407376f2b"
      },
      "source": [
        "## Training Accuracy\r\n",
        "x, y = dataset.training_set()\r\n",
        "y = to_categorical(y, num_classes=num_classes)\r\n",
        "\r\n",
        "# Compute classification accuracy on the training set\r\n",
        "_, accuracy = mnist_classifier.evaluate(x, y)\r\n",
        "print(\"Training Accuracy: %.2f%%\" % (100 * accuracy))"
      ],
      "execution_count": 28,
      "outputs": [
        {
          "output_type": "stream",
          "text": [
            "4/4 [==============================] - 0s 3ms/step - loss: 0.0013 - accuracy: 1.0000\n",
            "Training Accuracy: 100.00%\n"
          ],
          "name": "stdout"
        }
      ]
    },
    {
      "cell_type": "code",
      "metadata": {
        "colab": {
          "base_uri": "https://localhost:8080/"
        },
        "id": "Ad6WMFCg5nxt",
        "outputId": "ab792542-1945-49a8-9323-51439046a644"
      },
      "source": [
        "## Test Accuracy\r\n",
        "x, y = dataset.test_set()\r\n",
        "y = to_categorical(y, num_classes=num_classes)\r\n",
        "\r\n",
        "# Compute classification accuracy on the test set\r\n",
        "_, accuracy = mnist_classifier.evaluate(x, y)\r\n",
        "print(\"Test Accuracy: %.2f%%\" % (100 * accuracy))"
      ],
      "execution_count": 29,
      "outputs": [
        {
          "output_type": "stream",
          "text": [
            "313/313 [==============================] - 1s 3ms/step - loss: 1.3187 - accuracy: 0.7188\n",
            "Test Accuracy: 71.88%\n"
          ],
          "name": "stdout"
        }
      ]
    },
    {
      "cell_type": "code",
      "metadata": {
        "id": "I7mpvg355psf"
      },
      "source": [
        ""
      ],
      "execution_count": null,
      "outputs": []
    }
  ]
}